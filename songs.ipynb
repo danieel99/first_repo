{
  "nbformat": 4,
  "nbformat_minor": 0,
  "metadata": {
    "colab": {
      "name": "songs.ipynb",
      "provenance": [],
      "authorship_tag": "ABX9TyOIR21GRbS0LMGWt4fDh/yZ",
      "include_colab_link": true
    },
    "kernelspec": {
      "name": "python3",
      "display_name": "Python 3"
    },
    "language_info": {
      "name": "python"
    }
  },
  "cells": [
    {
      "cell_type": "markdown",
      "metadata": {
        "id": "view-in-github",
        "colab_type": "text"
      },
      "source": [
        "<a href=\"https://colab.research.google.com/github/danieel99/first_repo/blob/master/songs.ipynb\" target=\"_parent\"><img src=\"https://colab.research.google.com/assets/colab-badge.svg\" alt=\"Open In Colab\"/></a>"
      ]
    },
    {
      "cell_type": "code",
      "metadata": {
        "id": "lCwxD5OfU_WT"
      },
      "source": [
        "import pandas as pd\n",
        "import numpy as np"
      ],
      "execution_count": 2,
      "outputs": []
    },
    {
      "cell_type": "code",
      "metadata": {
        "colab": {
          "base_uri": "https://localhost:8080/"
        },
        "id": "I9nnBdvfW9M6",
        "outputId": "913c001b-e64e-4b41-a659-6abe386c29f0"
      },
      "source": [
        "songs = pd.read_csv('fma-rock-vs-hiphop.csv')\n",
        "print(songs.head())"
      ],
      "execution_count": 3,
      "outputs": [
        {
          "output_type": "stream",
          "text": [
            "   track_id  bit_rate  comments  ... publisher tags                       title\n",
            "0       135    256000         1  ...       NaN   []                Father's Day\n",
            "1       136    256000         1  ...       NaN   []  Peel Back The Mountain Sky\n",
            "2       151    192000         0  ...       NaN   []                 Untitled 04\n",
            "3       152    192000         0  ...       NaN   []                 Untitled 11\n",
            "4       153    256000         0  ...       NaN   []          Hundred-Year Flood\n",
            "\n",
            "[5 rows x 21 columns]\n"
          ],
          "name": "stdout"
        }
      ]
    },
    {
      "cell_type": "code",
      "metadata": {
        "colab": {
          "base_uri": "https://localhost:8080/"
        },
        "id": "WmzphOozZQ5b",
        "outputId": "833b995d-37bd-4884-ecad-531a60a355dd"
      },
      "source": [
        "echo_metrics = pd.read_json('echonest-metrics.json', precise_float = True)\n",
        "print(echo_metrics.head())"
      ],
      "execution_count": 4,
      "outputs": [
        {
          "output_type": "stream",
          "text": [
            "   track_id  acousticness  danceability  ...  speechiness    tempo   valence\n",
            "0         2      0.416675      0.675894  ...     0.159310  165.922  0.576661\n",
            "1         3      0.374408      0.528643  ...     0.461818  126.957  0.269240\n",
            "2         5      0.043567      0.745566  ...     0.124595  100.260  0.621661\n",
            "3        10      0.951670      0.658179  ...     0.032985  111.562  0.963590\n",
            "4       134      0.452217      0.513238  ...     0.525519  114.290  0.894072\n",
            "\n",
            "[5 rows x 9 columns]\n"
          ],
          "name": "stdout"
        }
      ]
    },
    {
      "cell_type": "code",
      "metadata": {
        "colab": {
          "base_uri": "https://localhost:8080/"
        },
        "id": "hL0qky1SarYr",
        "outputId": "2eb0ddd6-4ece-4d95-b664-3fde19872274"
      },
      "source": [
        "# merge the revelant columns of songs and echo_metrics\n",
        "echo_songs = pd.merge(echo_metrics, songs[['track_id','genre_top']], on = 'track_id')\n",
        "print(echo_songs.head())"
      ],
      "execution_count": 5,
      "outputs": [
        {
          "output_type": "stream",
          "text": [
            "   track_id  acousticness  danceability  ...    tempo   valence  genre_top\n",
            "0         2      0.416675      0.675894  ...  165.922  0.576661    Hip-Hop\n",
            "1         3      0.374408      0.528643  ...  126.957  0.269240    Hip-Hop\n",
            "2         5      0.043567      0.745566  ...  100.260  0.621661    Hip-Hop\n",
            "3       134      0.452217      0.513238  ...  114.290  0.894072    Hip-Hop\n",
            "4       153      0.988306      0.255661  ...   90.241  0.034018       Rock\n",
            "\n",
            "[5 rows x 10 columns]\n"
          ],
          "name": "stdout"
        }
      ]
    },
    {
      "cell_type": "code",
      "metadata": {
        "id": "LMG5YpjBcWnc"
      },
      "source": [
        "echo_songs.info()"
      ],
      "execution_count": null,
      "outputs": []
    },
    {
      "cell_type": "code",
      "metadata": {
        "colab": {
          "base_uri": "https://localhost:8080/",
          "height": 205
        },
        "id": "UWKAySW8cZRs",
        "outputId": "6663551a-9647-4d4c-9452-23ed36c39e6c"
      },
      "source": [
        "# create a correlation matrix\n",
        "corr_metrics = echo_songs.corr()\n",
        "corr_metrics.style.background_gradient()"
      ],
      "execution_count": 7,
      "outputs": [
        {
          "output_type": "execute_result",
          "data": {
            "text/html": [
              "<style  type=\"text/css\" >\n",
              "#T_a48a459c_88d8_11eb_a682_0242ac1c0002row0_col0,#T_a48a459c_88d8_11eb_a682_0242ac1c0002row1_col1,#T_a48a459c_88d8_11eb_a682_0242ac1c0002row2_col2,#T_a48a459c_88d8_11eb_a682_0242ac1c0002row3_col3,#T_a48a459c_88d8_11eb_a682_0242ac1c0002row4_col4,#T_a48a459c_88d8_11eb_a682_0242ac1c0002row5_col5,#T_a48a459c_88d8_11eb_a682_0242ac1c0002row6_col6,#T_a48a459c_88d8_11eb_a682_0242ac1c0002row7_col7,#T_a48a459c_88d8_11eb_a682_0242ac1c0002row8_col8{\n",
              "            background-color:  #023858;\n",
              "            color:  #f1f1f1;\n",
              "        }#T_a48a459c_88d8_11eb_a682_0242ac1c0002row0_col1,#T_a48a459c_88d8_11eb_a682_0242ac1c0002row1_col0,#T_a48a459c_88d8_11eb_a682_0242ac1c0002row1_col3,#T_a48a459c_88d8_11eb_a682_0242ac1c0002row2_col5,#T_a48a459c_88d8_11eb_a682_0242ac1c0002row2_col7,#T_a48a459c_88d8_11eb_a682_0242ac1c0002row4_col2,#T_a48a459c_88d8_11eb_a682_0242ac1c0002row4_col6,#T_a48a459c_88d8_11eb_a682_0242ac1c0002row4_col8,#T_a48a459c_88d8_11eb_a682_0242ac1c0002row6_col4{\n",
              "            background-color:  #fff7fb;\n",
              "            color:  #000000;\n",
              "        }#T_a48a459c_88d8_11eb_a682_0242ac1c0002row0_col2{\n",
              "            background-color:  #d2d2e7;\n",
              "            color:  #000000;\n",
              "        }#T_a48a459c_88d8_11eb_a682_0242ac1c0002row0_col3{\n",
              "            background-color:  #b5c4df;\n",
              "            color:  #000000;\n",
              "        }#T_a48a459c_88d8_11eb_a682_0242ac1c0002row0_col4{\n",
              "            background-color:  #f5eef6;\n",
              "            color:  #000000;\n",
              "        }#T_a48a459c_88d8_11eb_a682_0242ac1c0002row0_col5{\n",
              "            background-color:  #e9e5f1;\n",
              "            color:  #000000;\n",
              "        }#T_a48a459c_88d8_11eb_a682_0242ac1c0002row0_col6,#T_a48a459c_88d8_11eb_a682_0242ac1c0002row8_col3{\n",
              "            background-color:  #d1d2e6;\n",
              "            color:  #000000;\n",
              "        }#T_a48a459c_88d8_11eb_a682_0242ac1c0002row0_col7,#T_a48a459c_88d8_11eb_a682_0242ac1c0002row1_col7{\n",
              "            background-color:  #e1dfed;\n",
              "            color:  #000000;\n",
              "        }#T_a48a459c_88d8_11eb_a682_0242ac1c0002row0_col8,#T_a48a459c_88d8_11eb_a682_0242ac1c0002row3_col6{\n",
              "            background-color:  #dedcec;\n",
              "            color:  #000000;\n",
              "        }#T_a48a459c_88d8_11eb_a682_0242ac1c0002row1_col2{\n",
              "            background-color:  #e0dded;\n",
              "            color:  #000000;\n",
              "        }#T_a48a459c_88d8_11eb_a682_0242ac1c0002row1_col4,#T_a48a459c_88d8_11eb_a682_0242ac1c0002row4_col1{\n",
              "            background-color:  #97b7d7;\n",
              "            color:  #000000;\n",
              "        }#T_a48a459c_88d8_11eb_a682_0242ac1c0002row1_col5,#T_a48a459c_88d8_11eb_a682_0242ac1c0002row2_col4{\n",
              "            background-color:  #f3edf5;\n",
              "            color:  #000000;\n",
              "        }#T_a48a459c_88d8_11eb_a682_0242ac1c0002row1_col6,#T_a48a459c_88d8_11eb_a682_0242ac1c0002row6_col1{\n",
              "            background-color:  #b8c6e0;\n",
              "            color:  #000000;\n",
              "        }#T_a48a459c_88d8_11eb_a682_0242ac1c0002row1_col8{\n",
              "            background-color:  #e2dfee;\n",
              "            color:  #000000;\n",
              "        }#T_a48a459c_88d8_11eb_a682_0242ac1c0002row2_col0,#T_a48a459c_88d8_11eb_a682_0242ac1c0002row5_col0,#T_a48a459c_88d8_11eb_a682_0242ac1c0002row5_col3{\n",
              "            background-color:  #bdc8e1;\n",
              "            color:  #000000;\n",
              "        }#T_a48a459c_88d8_11eb_a682_0242ac1c0002row2_col1,#T_a48a459c_88d8_11eb_a682_0242ac1c0002row6_col0,#T_a48a459c_88d8_11eb_a682_0242ac1c0002row7_col0,#T_a48a459c_88d8_11eb_a682_0242ac1c0002row7_col1{\n",
              "            background-color:  #d0d1e6;\n",
              "            color:  #000000;\n",
              "        }#T_a48a459c_88d8_11eb_a682_0242ac1c0002row2_col3{\n",
              "            background-color:  #fbf3f9;\n",
              "            color:  #000000;\n",
              "        }#T_a48a459c_88d8_11eb_a682_0242ac1c0002row2_col6{\n",
              "            background-color:  #80aed2;\n",
              "            color:  #000000;\n",
              "        }#T_a48a459c_88d8_11eb_a682_0242ac1c0002row2_col8{\n",
              "            background-color:  #529bc7;\n",
              "            color:  #000000;\n",
              "        }#T_a48a459c_88d8_11eb_a682_0242ac1c0002row3_col0,#T_a48a459c_88d8_11eb_a682_0242ac1c0002row7_col3{\n",
              "            background-color:  #a7bddb;\n",
              "            color:  #000000;\n",
              "        }#T_a48a459c_88d8_11eb_a682_0242ac1c0002row3_col1{\n",
              "            background-color:  #f5eff6;\n",
              "            color:  #000000;\n",
              "        }#T_a48a459c_88d8_11eb_a682_0242ac1c0002row3_col2,#T_a48a459c_88d8_11eb_a682_0242ac1c0002row7_col2{\n",
              "            background-color:  #fef6fa;\n",
              "            color:  #000000;\n",
              "        }#T_a48a459c_88d8_11eb_a682_0242ac1c0002row3_col4{\n",
              "            background-color:  #c4cbe3;\n",
              "            color:  #000000;\n",
              "        }#T_a48a459c_88d8_11eb_a682_0242ac1c0002row3_col5,#T_a48a459c_88d8_11eb_a682_0242ac1c0002row5_col7{\n",
              "            background-color:  #dcdaeb;\n",
              "            color:  #000000;\n",
              "        }#T_a48a459c_88d8_11eb_a682_0242ac1c0002row3_col7{\n",
              "            background-color:  #adc1dd;\n",
              "            color:  #000000;\n",
              "        }#T_a48a459c_88d8_11eb_a682_0242ac1c0002row3_col8,#T_a48a459c_88d8_11eb_a682_0242ac1c0002row4_col7{\n",
              "            background-color:  #d9d8ea;\n",
              "            color:  #000000;\n",
              "        }#T_a48a459c_88d8_11eb_a682_0242ac1c0002row4_col0{\n",
              "            background-color:  #f4eef6;\n",
              "            color:  #000000;\n",
              "        }#T_a48a459c_88d8_11eb_a682_0242ac1c0002row4_col3{\n",
              "            background-color:  #d2d3e7;\n",
              "            color:  #000000;\n",
              "        }#T_a48a459c_88d8_11eb_a682_0242ac1c0002row4_col5{\n",
              "            background-color:  #fdf5fa;\n",
              "            color:  #000000;\n",
              "        }#T_a48a459c_88d8_11eb_a682_0242ac1c0002row5_col1{\n",
              "            background-color:  #ced0e6;\n",
              "            color:  #000000;\n",
              "        }#T_a48a459c_88d8_11eb_a682_0242ac1c0002row5_col2{\n",
              "            background-color:  #ede8f3;\n",
              "            color:  #000000;\n",
              "        }#T_a48a459c_88d8_11eb_a682_0242ac1c0002row5_col4,#T_a48a459c_88d8_11eb_a682_0242ac1c0002row6_col7{\n",
              "            background-color:  #dbdaeb;\n",
              "            color:  #000000;\n",
              "        }#T_a48a459c_88d8_11eb_a682_0242ac1c0002row5_col6{\n",
              "            background-color:  #c0c9e2;\n",
              "            color:  #000000;\n",
              "        }#T_a48a459c_88d8_11eb_a682_0242ac1c0002row5_col8{\n",
              "            background-color:  #e8e4f0;\n",
              "            color:  #000000;\n",
              "        }#T_a48a459c_88d8_11eb_a682_0242ac1c0002row6_col2{\n",
              "            background-color:  #93b5d6;\n",
              "            color:  #000000;\n",
              "        }#T_a48a459c_88d8_11eb_a682_0242ac1c0002row6_col3,#T_a48a459c_88d8_11eb_a682_0242ac1c0002row6_col5{\n",
              "            background-color:  #eae6f1;\n",
              "            color:  #000000;\n",
              "        }#T_a48a459c_88d8_11eb_a682_0242ac1c0002row6_col8{\n",
              "            background-color:  #bfc9e1;\n",
              "            color:  #000000;\n",
              "        }#T_a48a459c_88d8_11eb_a682_0242ac1c0002row7_col4{\n",
              "            background-color:  #c5cce3;\n",
              "            color:  #000000;\n",
              "        }#T_a48a459c_88d8_11eb_a682_0242ac1c0002row7_col5{\n",
              "            background-color:  #f0eaf4;\n",
              "            color:  #000000;\n",
              "        }#T_a48a459c_88d8_11eb_a682_0242ac1c0002row7_col6{\n",
              "            background-color:  #c8cde4;\n",
              "            color:  #000000;\n",
              "        }#T_a48a459c_88d8_11eb_a682_0242ac1c0002row7_col8{\n",
              "            background-color:  #d6d6e9;\n",
              "            color:  #000000;\n",
              "        }#T_a48a459c_88d8_11eb_a682_0242ac1c0002row8_col0{\n",
              "            background-color:  #c6cce3;\n",
              "            color:  #000000;\n",
              "        }#T_a48a459c_88d8_11eb_a682_0242ac1c0002row8_col1{\n",
              "            background-color:  #cdd0e5;\n",
              "            color:  #000000;\n",
              "        }#T_a48a459c_88d8_11eb_a682_0242ac1c0002row8_col2{\n",
              "            background-color:  #4c99c5;\n",
              "            color:  #000000;\n",
              "        }#T_a48a459c_88d8_11eb_a682_0242ac1c0002row8_col4{\n",
              "            background-color:  #efe9f3;\n",
              "            color:  #000000;\n",
              "        }#T_a48a459c_88d8_11eb_a682_0242ac1c0002row8_col5{\n",
              "            background-color:  #f7f0f7;\n",
              "            color:  #000000;\n",
              "        }#T_a48a459c_88d8_11eb_a682_0242ac1c0002row8_col6{\n",
              "            background-color:  #a5bddb;\n",
              "            color:  #000000;\n",
              "        }#T_a48a459c_88d8_11eb_a682_0242ac1c0002row8_col7{\n",
              "            background-color:  #d3d4e7;\n",
              "            color:  #000000;\n",
              "        }</style><table id=\"T_a48a459c_88d8_11eb_a682_0242ac1c0002\" ><thead>    <tr>        <th class=\"blank level0\" ></th>        <th class=\"col_heading level0 col0\" >track_id</th>        <th class=\"col_heading level0 col1\" >acousticness</th>        <th class=\"col_heading level0 col2\" >danceability</th>        <th class=\"col_heading level0 col3\" >energy</th>        <th class=\"col_heading level0 col4\" >instrumentalness</th>        <th class=\"col_heading level0 col5\" >liveness</th>        <th class=\"col_heading level0 col6\" >speechiness</th>        <th class=\"col_heading level0 col7\" >tempo</th>        <th class=\"col_heading level0 col8\" >valence</th>    </tr></thead><tbody>\n",
              "                <tr>\n",
              "                        <th id=\"T_a48a459c_88d8_11eb_a682_0242ac1c0002level0_row0\" class=\"row_heading level0 row0\" >track_id</th>\n",
              "                        <td id=\"T_a48a459c_88d8_11eb_a682_0242ac1c0002row0_col0\" class=\"data row0 col0\" >1.000000</td>\n",
              "                        <td id=\"T_a48a459c_88d8_11eb_a682_0242ac1c0002row0_col1\" class=\"data row0 col1\" >-0.372282</td>\n",
              "                        <td id=\"T_a48a459c_88d8_11eb_a682_0242ac1c0002row0_col2\" class=\"data row0 col2\" >0.049454</td>\n",
              "                        <td id=\"T_a48a459c_88d8_11eb_a682_0242ac1c0002row0_col3\" class=\"data row0 col3\" >0.140703</td>\n",
              "                        <td id=\"T_a48a459c_88d8_11eb_a682_0242ac1c0002row0_col4\" class=\"data row0 col4\" >-0.275623</td>\n",
              "                        <td id=\"T_a48a459c_88d8_11eb_a682_0242ac1c0002row0_col5\" class=\"data row0 col5\" >0.048231</td>\n",
              "                        <td id=\"T_a48a459c_88d8_11eb_a682_0242ac1c0002row0_col6\" class=\"data row0 col6\" >-0.026995</td>\n",
              "                        <td id=\"T_a48a459c_88d8_11eb_a682_0242ac1c0002row0_col7\" class=\"data row0 col7\" >-0.025392</td>\n",
              "                        <td id=\"T_a48a459c_88d8_11eb_a682_0242ac1c0002row0_col8\" class=\"data row0 col8\" >0.010070</td>\n",
              "            </tr>\n",
              "            <tr>\n",
              "                        <th id=\"T_a48a459c_88d8_11eb_a682_0242ac1c0002level0_row1\" class=\"row_heading level0 row1\" >acousticness</th>\n",
              "                        <td id=\"T_a48a459c_88d8_11eb_a682_0242ac1c0002row1_col0\" class=\"data row1 col0\" >-0.372282</td>\n",
              "                        <td id=\"T_a48a459c_88d8_11eb_a682_0242ac1c0002row1_col1\" class=\"data row1 col1\" >1.000000</td>\n",
              "                        <td id=\"T_a48a459c_88d8_11eb_a682_0242ac1c0002row1_col2\" class=\"data row1 col2\" >-0.028954</td>\n",
              "                        <td id=\"T_a48a459c_88d8_11eb_a682_0242ac1c0002row1_col3\" class=\"data row1 col3\" >-0.281619</td>\n",
              "                        <td id=\"T_a48a459c_88d8_11eb_a682_0242ac1c0002row1_col4\" class=\"data row1 col4\" >0.194780</td>\n",
              "                        <td id=\"T_a48a459c_88d8_11eb_a682_0242ac1c0002row1_col5\" class=\"data row1 col5\" >-0.019991</td>\n",
              "                        <td id=\"T_a48a459c_88d8_11eb_a682_0242ac1c0002row1_col6\" class=\"data row1 col6\" >0.072204</td>\n",
              "                        <td id=\"T_a48a459c_88d8_11eb_a682_0242ac1c0002row1_col7\" class=\"data row1 col7\" >-0.026310</td>\n",
              "                        <td id=\"T_a48a459c_88d8_11eb_a682_0242ac1c0002row1_col8\" class=\"data row1 col8\" >-0.013841</td>\n",
              "            </tr>\n",
              "            <tr>\n",
              "                        <th id=\"T_a48a459c_88d8_11eb_a682_0242ac1c0002level0_row2\" class=\"row_heading level0 row2\" >danceability</th>\n",
              "                        <td id=\"T_a48a459c_88d8_11eb_a682_0242ac1c0002row2_col0\" class=\"data row2 col0\" >0.049454</td>\n",
              "                        <td id=\"T_a48a459c_88d8_11eb_a682_0242ac1c0002row2_col1\" class=\"data row2 col1\" >-0.028954</td>\n",
              "                        <td id=\"T_a48a459c_88d8_11eb_a682_0242ac1c0002row2_col2\" class=\"data row2 col2\" >1.000000</td>\n",
              "                        <td id=\"T_a48a459c_88d8_11eb_a682_0242ac1c0002row2_col3\" class=\"data row2 col3\" >-0.242032</td>\n",
              "                        <td id=\"T_a48a459c_88d8_11eb_a682_0242ac1c0002row2_col4\" class=\"data row2 col4\" >-0.255217</td>\n",
              "                        <td id=\"T_a48a459c_88d8_11eb_a682_0242ac1c0002row2_col5\" class=\"data row2 col5\" >-0.106584</td>\n",
              "                        <td id=\"T_a48a459c_88d8_11eb_a682_0242ac1c0002row2_col6\" class=\"data row2 col6\" >0.276206</td>\n",
              "                        <td id=\"T_a48a459c_88d8_11eb_a682_0242ac1c0002row2_col7\" class=\"data row2 col7\" >-0.242089</td>\n",
              "                        <td id=\"T_a48a459c_88d8_11eb_a682_0242ac1c0002row2_col8\" class=\"data row2 col8\" >0.473165</td>\n",
              "            </tr>\n",
              "            <tr>\n",
              "                        <th id=\"T_a48a459c_88d8_11eb_a682_0242ac1c0002level0_row3\" class=\"row_heading level0 row3\" >energy</th>\n",
              "                        <td id=\"T_a48a459c_88d8_11eb_a682_0242ac1c0002row3_col0\" class=\"data row3 col0\" >0.140703</td>\n",
              "                        <td id=\"T_a48a459c_88d8_11eb_a682_0242ac1c0002row3_col1\" class=\"data row3 col1\" >-0.281619</td>\n",
              "                        <td id=\"T_a48a459c_88d8_11eb_a682_0242ac1c0002row3_col2\" class=\"data row3 col2\" >-0.242032</td>\n",
              "                        <td id=\"T_a48a459c_88d8_11eb_a682_0242ac1c0002row3_col3\" class=\"data row3 col3\" >1.000000</td>\n",
              "                        <td id=\"T_a48a459c_88d8_11eb_a682_0242ac1c0002row3_col4\" class=\"data row3 col4\" >0.028238</td>\n",
              "                        <td id=\"T_a48a459c_88d8_11eb_a682_0242ac1c0002row3_col5\" class=\"data row3 col5\" >0.113331</td>\n",
              "                        <td id=\"T_a48a459c_88d8_11eb_a682_0242ac1c0002row3_col6\" class=\"data row3 col6\" >-0.109983</td>\n",
              "                        <td id=\"T_a48a459c_88d8_11eb_a682_0242ac1c0002row3_col7\" class=\"data row3 col7\" >0.195227</td>\n",
              "                        <td id=\"T_a48a459c_88d8_11eb_a682_0242ac1c0002row3_col8\" class=\"data row3 col8\" >0.038603</td>\n",
              "            </tr>\n",
              "            <tr>\n",
              "                        <th id=\"T_a48a459c_88d8_11eb_a682_0242ac1c0002level0_row4\" class=\"row_heading level0 row4\" >instrumentalness</th>\n",
              "                        <td id=\"T_a48a459c_88d8_11eb_a682_0242ac1c0002row4_col0\" class=\"data row4 col0\" >-0.275623</td>\n",
              "                        <td id=\"T_a48a459c_88d8_11eb_a682_0242ac1c0002row4_col1\" class=\"data row4 col1\" >0.194780</td>\n",
              "                        <td id=\"T_a48a459c_88d8_11eb_a682_0242ac1c0002row4_col2\" class=\"data row4 col2\" >-0.255217</td>\n",
              "                        <td id=\"T_a48a459c_88d8_11eb_a682_0242ac1c0002row4_col3\" class=\"data row4 col3\" >0.028238</td>\n",
              "                        <td id=\"T_a48a459c_88d8_11eb_a682_0242ac1c0002row4_col4\" class=\"data row4 col4\" >1.000000</td>\n",
              "                        <td id=\"T_a48a459c_88d8_11eb_a682_0242ac1c0002row4_col5\" class=\"data row4 col5\" >-0.091022</td>\n",
              "                        <td id=\"T_a48a459c_88d8_11eb_a682_0242ac1c0002row4_col6\" class=\"data row4 col6\" >-0.366762</td>\n",
              "                        <td id=\"T_a48a459c_88d8_11eb_a682_0242ac1c0002row4_col7\" class=\"data row4 col7\" >0.022215</td>\n",
              "                        <td id=\"T_a48a459c_88d8_11eb_a682_0242ac1c0002row4_col8\" class=\"data row4 col8\" >-0.219967</td>\n",
              "            </tr>\n",
              "            <tr>\n",
              "                        <th id=\"T_a48a459c_88d8_11eb_a682_0242ac1c0002level0_row5\" class=\"row_heading level0 row5\" >liveness</th>\n",
              "                        <td id=\"T_a48a459c_88d8_11eb_a682_0242ac1c0002row5_col0\" class=\"data row5 col0\" >0.048231</td>\n",
              "                        <td id=\"T_a48a459c_88d8_11eb_a682_0242ac1c0002row5_col1\" class=\"data row5 col1\" >-0.019991</td>\n",
              "                        <td id=\"T_a48a459c_88d8_11eb_a682_0242ac1c0002row5_col2\" class=\"data row5 col2\" >-0.106584</td>\n",
              "                        <td id=\"T_a48a459c_88d8_11eb_a682_0242ac1c0002row5_col3\" class=\"data row5 col3\" >0.113331</td>\n",
              "                        <td id=\"T_a48a459c_88d8_11eb_a682_0242ac1c0002row5_col4\" class=\"data row5 col4\" >-0.091022</td>\n",
              "                        <td id=\"T_a48a459c_88d8_11eb_a682_0242ac1c0002row5_col5\" class=\"data row5 col5\" >1.000000</td>\n",
              "                        <td id=\"T_a48a459c_88d8_11eb_a682_0242ac1c0002row5_col6\" class=\"data row5 col6\" >0.041173</td>\n",
              "                        <td id=\"T_a48a459c_88d8_11eb_a682_0242ac1c0002row5_col7\" class=\"data row5 col7\" >0.002732</td>\n",
              "                        <td id=\"T_a48a459c_88d8_11eb_a682_0242ac1c0002row5_col8\" class=\"data row5 col8\" >-0.045093</td>\n",
              "            </tr>\n",
              "            <tr>\n",
              "                        <th id=\"T_a48a459c_88d8_11eb_a682_0242ac1c0002level0_row6\" class=\"row_heading level0 row6\" >speechiness</th>\n",
              "                        <td id=\"T_a48a459c_88d8_11eb_a682_0242ac1c0002row6_col0\" class=\"data row6 col0\" >-0.026995</td>\n",
              "                        <td id=\"T_a48a459c_88d8_11eb_a682_0242ac1c0002row6_col1\" class=\"data row6 col1\" >0.072204</td>\n",
              "                        <td id=\"T_a48a459c_88d8_11eb_a682_0242ac1c0002row6_col2\" class=\"data row6 col2\" >0.276206</td>\n",
              "                        <td id=\"T_a48a459c_88d8_11eb_a682_0242ac1c0002row6_col3\" class=\"data row6 col3\" >-0.109983</td>\n",
              "                        <td id=\"T_a48a459c_88d8_11eb_a682_0242ac1c0002row6_col4\" class=\"data row6 col4\" >-0.366762</td>\n",
              "                        <td id=\"T_a48a459c_88d8_11eb_a682_0242ac1c0002row6_col5\" class=\"data row6 col5\" >0.041173</td>\n",
              "                        <td id=\"T_a48a459c_88d8_11eb_a682_0242ac1c0002row6_col6\" class=\"data row6 col6\" >1.000000</td>\n",
              "                        <td id=\"T_a48a459c_88d8_11eb_a682_0242ac1c0002row6_col7\" class=\"data row6 col7\" >0.008241</td>\n",
              "                        <td id=\"T_a48a459c_88d8_11eb_a682_0242ac1c0002row6_col8\" class=\"data row6 col8\" >0.149894</td>\n",
              "            </tr>\n",
              "            <tr>\n",
              "                        <th id=\"T_a48a459c_88d8_11eb_a682_0242ac1c0002level0_row7\" class=\"row_heading level0 row7\" >tempo</th>\n",
              "                        <td id=\"T_a48a459c_88d8_11eb_a682_0242ac1c0002row7_col0\" class=\"data row7 col0\" >-0.025392</td>\n",
              "                        <td id=\"T_a48a459c_88d8_11eb_a682_0242ac1c0002row7_col1\" class=\"data row7 col1\" >-0.026310</td>\n",
              "                        <td id=\"T_a48a459c_88d8_11eb_a682_0242ac1c0002row7_col2\" class=\"data row7 col2\" >-0.242089</td>\n",
              "                        <td id=\"T_a48a459c_88d8_11eb_a682_0242ac1c0002row7_col3\" class=\"data row7 col3\" >0.195227</td>\n",
              "                        <td id=\"T_a48a459c_88d8_11eb_a682_0242ac1c0002row7_col4\" class=\"data row7 col4\" >0.022215</td>\n",
              "                        <td id=\"T_a48a459c_88d8_11eb_a682_0242ac1c0002row7_col5\" class=\"data row7 col5\" >0.002732</td>\n",
              "                        <td id=\"T_a48a459c_88d8_11eb_a682_0242ac1c0002row7_col6\" class=\"data row7 col6\" >0.008241</td>\n",
              "                        <td id=\"T_a48a459c_88d8_11eb_a682_0242ac1c0002row7_col7\" class=\"data row7 col7\" >1.000000</td>\n",
              "                        <td id=\"T_a48a459c_88d8_11eb_a682_0242ac1c0002row7_col8\" class=\"data row7 col8\" >0.052221</td>\n",
              "            </tr>\n",
              "            <tr>\n",
              "                        <th id=\"T_a48a459c_88d8_11eb_a682_0242ac1c0002level0_row8\" class=\"row_heading level0 row8\" >valence</th>\n",
              "                        <td id=\"T_a48a459c_88d8_11eb_a682_0242ac1c0002row8_col0\" class=\"data row8 col0\" >0.010070</td>\n",
              "                        <td id=\"T_a48a459c_88d8_11eb_a682_0242ac1c0002row8_col1\" class=\"data row8 col1\" >-0.013841</td>\n",
              "                        <td id=\"T_a48a459c_88d8_11eb_a682_0242ac1c0002row8_col2\" class=\"data row8 col2\" >0.473165</td>\n",
              "                        <td id=\"T_a48a459c_88d8_11eb_a682_0242ac1c0002row8_col3\" class=\"data row8 col3\" >0.038603</td>\n",
              "                        <td id=\"T_a48a459c_88d8_11eb_a682_0242ac1c0002row8_col4\" class=\"data row8 col4\" >-0.219967</td>\n",
              "                        <td id=\"T_a48a459c_88d8_11eb_a682_0242ac1c0002row8_col5\" class=\"data row8 col5\" >-0.045093</td>\n",
              "                        <td id=\"T_a48a459c_88d8_11eb_a682_0242ac1c0002row8_col6\" class=\"data row8 col6\" >0.149894</td>\n",
              "                        <td id=\"T_a48a459c_88d8_11eb_a682_0242ac1c0002row8_col7\" class=\"data row8 col7\" >0.052221</td>\n",
              "                        <td id=\"T_a48a459c_88d8_11eb_a682_0242ac1c0002row8_col8\" class=\"data row8 col8\" >1.000000</td>\n",
              "            </tr>\n",
              "    </tbody></table>"
            ],
            "text/plain": [
              "<pandas.io.formats.style.Styler at 0x7fbebd879850>"
            ]
          },
          "metadata": {
            "tags": []
          },
          "execution_count": 7
        }
      ]
    },
    {
      "cell_type": "code",
      "metadata": {
        "id": "l3y1tpJZd5li"
      },
      "source": [
        "features = echo_songs.drop(['genre_top', 'track_id'], axis = 1)\n",
        "# print(features)\n",
        "labels = echo_songs['genre_top']\n",
        "# print(labels)"
      ],
      "execution_count": 8,
      "outputs": []
    },
    {
      "cell_type": "code",
      "metadata": {
        "id": "_B8RKRpgjioC"
      },
      "source": [
        "from sklearn.preprocessing import StandardScaler"
      ],
      "execution_count": 9,
      "outputs": []
    },
    {
      "cell_type": "code",
      "metadata": {
        "id": "hBmR4WvcjzUW"
      },
      "source": [
        "# scale the features and set values to a new variable\n",
        "scaler = StandardScaler()\n",
        "scaled_train_features = scaler.fit_transform(features)"
      ],
      "execution_count": 11,
      "outputs": []
    },
    {
      "cell_type": "code",
      "metadata": {
        "id": "6rlJKBiskZ79"
      },
      "source": [
        "import matplotlib.pyplot as plt\n",
        "from sklearn.decomposition import PCA"
      ],
      "execution_count": 12,
      "outputs": []
    },
    {
      "cell_type": "code",
      "metadata": {
        "colab": {
          "base_uri": "https://localhost:8080/",
          "height": 296
        },
        "id": "HyS54D3wllwW",
        "outputId": "a0dfb068-e59d-4986-8f9c-b96b87cb5c60"
      },
      "source": [
        "# get our explained variance ratios from PCA using all features\n",
        "pca = PCA()\n",
        "pca.fit(scaled_train_features)\n",
        "exp_variance = pca.explained_variance_ratio_\n",
        "# print(exp_variance)\n",
        "\n",
        "# plot the explained variance using a barplot\n",
        "fig, ax = plt.subplots()\n",
        "ax.bar(range(len(exp_variance)), exp_variance)\n",
        "ax.set_xlabel('Principal Component #')\n",
        "\n"
      ],
      "execution_count": 13,
      "outputs": [
        {
          "output_type": "execute_result",
          "data": {
            "text/plain": [
              "Text(0.5, 0, 'Principal Component #')"
            ]
          },
          "metadata": {
            "tags": []
          },
          "execution_count": 13
        },
        {
          "output_type": "display_data",
          "data": {
            "image/png": "[encoded data removed]",
            "text/plain": [
              "<Figure size 432x288 with 1 Axes>"
            ]
          },
          "metadata": {
            "tags": [],
            "needs_background": "light"
          }
        }
      ]
    },
    {
      "cell_type": "code",
      "metadata": {
        "colab": {
          "base_uri": "https://localhost:8080/",
          "height": 282
        },
        "id": "VCEKksH8mhtX",
        "outputId": "7d15d8fd-6fb4-4d50-e995-a1b4137f3a10"
      },
      "source": [
        "cum_exp_variance =  np.cumsum(exp_variance)\n",
        "# print(cum_exp_variance)\n",
        "fig, ax = plt.subplots()\n",
        "ax.plot(range(len(cum_exp_variance)), cum_exp_variance)\n",
        "ax.axhline(y = .85, linestyle = '--', color = 'r')"
      ],
      "execution_count": 14,
      "outputs": [
        {
          "output_type": "execute_result",
          "data": {
            "text/plain": [
              "<matplotlib.lines.Line2D at 0x7fbea8464b90>"
            ]
          },
          "metadata": {
            "tags": []
          },
          "execution_count": 14
        },
        {
          "output_type": "display_data",
          "data": {
            "image/png": "[encoded data removed]",
            "text/plain": [
              "<Figure size 432x288 with 1 Axes>"
            ]
          },
          "metadata": {
            "tags": [],
            "needs_background": "light"
          }
        }
      ]
    },
    {
      "cell_type": "code",
      "metadata": {
        "id": "XawqMhthpC2F"
      },
      "source": [
        "n_components = 6\n",
        "\n",
        "pca = PCA(n_components, random_state = 10)\n",
        "pca.fit(scaled_train_features)\n",
        "pca_projection = pca.transform(scaled_train_features)"
      ],
      "execution_count": 15,
      "outputs": []
    },
    {
      "cell_type": "code",
      "metadata": {
        "id": "6SvvkXrDsF3x"
      },
      "source": [
        "from sklearn.model_selection import train_test_split\n",
        "from sklearn.tree import DecisionTreeClassifier"
      ],
      "execution_count": 16,
      "outputs": []
    },
    {
      "cell_type": "code",
      "metadata": {
        "id": "hwm_7S8dtePn"
      },
      "source": [
        "train_features, test_features = train_test_split(pca_projection, random_state = 10)\n",
        "train_labels, test_labels = train_test_split(labels, random_state = 10)\n",
        "\n",
        "tree = DecisionTreeClassifier(random_state = 10)\n",
        "tree.fit(train_features, train_labels)\n",
        "\n",
        "pred_labels_tree = tree.predict(test_features)\n",
        "# print(pred_labels_tree)\n"
      ],
      "execution_count": 17,
      "outputs": []
    },
    {
      "cell_type": "code",
      "metadata": {
        "id": "qsEs0fX6uGDv"
      },
      "source": [
        "from sklearn.linear_model import LogisticRegression"
      ],
      "execution_count": 18,
      "outputs": []
    },
    {
      "cell_type": "code",
      "metadata": {
        "id": "s3lOO5hOvnIu"
      },
      "source": [
        "logreg = LogisticRegression(random_state = 10)\n",
        "logreg.fit(train_features, train_labels)\n",
        "pred_labels_logit = logreg.predict(test_features)\n",
        "# print(pred_labels_logit)\n"
      ],
      "execution_count": 19,
      "outputs": []
    },
    {
      "cell_type": "code",
      "metadata": {
        "id": "VYDEKveuv8FZ"
      },
      "source": [
        "from sklearn.metrics import classification_report"
      ],
      "execution_count": 20,
      "outputs": []
    },
    {
      "cell_type": "code",
      "metadata": {
        "colab": {
          "base_uri": "https://localhost:8080/"
        },
        "id": "QeFVW5BMwjWF",
        "outputId": "866f54f3-b321-44e4-f921-e5d4b9d97431"
      },
      "source": [
        "class_rep_tree = classification_report(test_labels, pred_labels_tree)\n",
        "class_rep_log = classification_report(test_labels, pred_labels_logit)\n",
        "print('-------------------------Decision Tree--------------------------')\n",
        "print(class_rep_tree)\n",
        "print('-------------------------Logistic Regression--------------------')\n",
        "print(class_rep_log)"
      ],
      "execution_count": 22,
      "outputs": [
        {
          "output_type": "stream",
          "text": [
            "-------------------------Decision Tree--------------------------\n",
            "              precision    recall  f1-score   support\n",
            "\n",
            "     Hip-Hop       0.60      0.60      0.60       235\n",
            "        Rock       0.90      0.90      0.90       966\n",
            "\n",
            "    accuracy                           0.84      1201\n",
            "   macro avg       0.75      0.75      0.75      1201\n",
            "weighted avg       0.84      0.84      0.84      1201\n",
            "\n",
            "-------------------------Logistic Regression--------------------\n",
            "              precision    recall  f1-score   support\n",
            "\n",
            "     Hip-Hop       0.77      0.54      0.64       235\n",
            "        Rock       0.90      0.96      0.93       966\n",
            "\n",
            "    accuracy                           0.88      1201\n",
            "   macro avg       0.83      0.75      0.78      1201\n",
            "weighted avg       0.87      0.88      0.87      1201\n",
            "\n"
          ],
          "name": "stdout"
        }
      ]
    },
    {
      "cell_type": "code",
      "metadata": {
        "id": "oKJ6D9P0w3D3"
      },
      "source": [
        "hop_only = echo_songs.loc[echo_songs['genre_top'] == 'Hip-Hop']\n",
        "rock_only = echo_songs.loc[echo_songs['genre_top'] == 'Rock']\n",
        "\n",
        "rock_only = rock_only.sample(len(hop_only), random_state = 10)\n",
        "\n",
        "rock_hop_bal = pd.concat([rock_only, hop_only])\n",
        "\n",
        "features = rock_hop_bal.drop(['genre_top', 'track_id'], axis = 1) \n",
        "labels = rock_hop_bal['genre_top']\n",
        "pca_projection = pca.fit_transform(scaler.fit_transform(features))\n",
        "\n",
        "train_features, test_features = train_test_split(pca_projection, random_state = 10)\n",
        "train_labels, test_labels = train_test_split(labels, random_state = 10)"
      ],
      "execution_count": 31,
      "outputs": []
    },
    {
      "cell_type": "code",
      "metadata": {
        "id": "pK1YC5k4ijsG"
      },
      "source": [
        "tree = DecisionTreeClassifier(random_state = 10)\n",
        "tree.fit(train_features, train_labels)\n",
        "pred_labels_tree = tree.predict(test_features)\n",
        "# print(pred_labels_tree)"
      ],
      "execution_count": null,
      "outputs": []
    },
    {
      "cell_type": "code",
      "metadata": {
        "id": "1kJ2fx94kuSl"
      },
      "source": [
        "logreg = LogisticRegression(random_state = 10)\n",
        "logreg.fit(train_features, train_labels)\n",
        "pred_labels_logit = logreg.predict(test_features)\n",
        "# print(pred_labels_logit)"
      ],
      "execution_count": null,
      "outputs": []
    },
    {
      "cell_type": "code",
      "metadata": {
        "colab": {
          "base_uri": "https://localhost:8080/"
        },
        "id": "mwmwzVhTk_qO",
        "outputId": "7decf836-83aa-4a14-d9d4-f359a11a63dd"
      },
      "source": [
        "class_rep_tree = classification_report(test_labels, pred_labels_tree)\n",
        "class_rep_log = classification_report(test_labels, pred_labels_logit)\n",
        "print('-------------------------Decision Tree--------------------------')\n",
        "print(class_rep_tree)\n",
        "print('-------------------------Logistic Regression--------------------')\n",
        "print(class_rep_log)"
      ],
      "execution_count": 38,
      "outputs": [
        {
          "output_type": "stream",
          "text": [
            "-------------------------Decision Tree--------------------------\n",
            "              precision    recall  f1-score   support\n",
            "\n",
            "     Hip-Hop       0.74      0.73      0.74       230\n",
            "        Rock       0.73      0.74      0.73       225\n",
            "\n",
            "    accuracy                           0.74       455\n",
            "   macro avg       0.74      0.74      0.74       455\n",
            "weighted avg       0.74      0.74      0.74       455\n",
            "\n",
            "-------------------------Logistic Regression--------------------\n",
            "              precision    recall  f1-score   support\n",
            "\n",
            "     Hip-Hop       0.84      0.80      0.82       230\n",
            "        Rock       0.80      0.85      0.83       225\n",
            "\n",
            "    accuracy                           0.82       455\n",
            "   macro avg       0.82      0.82      0.82       455\n",
            "weighted avg       0.82      0.82      0.82       455\n",
            "\n"
          ],
          "name": "stdout"
        }
      ]
    },
    {
      "cell_type": "code",
      "metadata": {
        "id": "yYR-uj3_lqkc"
      },
      "source": [
        "from sklearn.model_selection import KFold, cross_val_score"
      ],
      "execution_count": 39,
      "outputs": []
    },
    {
      "cell_type": "code",
      "metadata": {
        "id": "JZMNpNsZlweG"
      },
      "source": [
        "kf = KFold(n_splits = 10, random_state = 10)\n",
        "\n",
        "tree = DecisionTreeClassifier(random_state = 10)\n",
        "logreg = LogisticRegression(random_state = 10)\n",
        "\n",
        "tree_score = cross_val_score(tree, pca_projection, labels, cv = kf)\n",
        "logit_score = cross_val_score(logreg, pca_projection, labels, cv = kf)\n",
        "\n"
      ],
      "execution_count": null,
      "outputs": []
    },
    {
      "cell_type": "code",
      "metadata": {
        "colab": {
          "base_uri": "https://localhost:8080/"
        },
        "id": "iMJ8TDy-me8k",
        "outputId": "32e2adf2-ceb2-4e9a-e006-4b912a524000"
      },
      "source": [
        "print(\"Decision Tree: \", np.mean(tree_score), \"\\nLogistic Regression:\", np.mean(logit_score))"
      ],
      "execution_count": 45,
      "outputs": [
        {
          "output_type": "stream",
          "text": [
            "Decision Tree:  0.7489010989010989 \n",
            "Logistic Regression: 0.782967032967033\n"
          ],
          "name": "stdout"
        }
      ]
    }
  ]
}